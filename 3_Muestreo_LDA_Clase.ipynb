{
  "nbformat": 4,
  "nbformat_minor": 0,
  "metadata": {
    "colab": {
      "provenance": [],
      "mount_file_id": "1F_XDhxLXj7IGeDTbuirqBDBSBZWV-BX6",
      "authorship_tag": "ABX9TyN3jIem1PksTatArXmEPDuL",
      "include_colab_link": true
    },
    "kernelspec": {
      "name": "python3",
      "display_name": "Python 3"
    },
    "language_info": {
      "name": "python"
    }
  },
  "cells": [
    {
      "cell_type": "markdown",
      "metadata": {
        "id": "view-in-github",
        "colab_type": "text"
      },
      "source": [
        "<a href=\"https://colab.research.google.com/github/Mari157mjs/Integraci-n-de-Datos/blob/main/3_Muestreo_LDA_Clase.ipynb\" target=\"_parent\"><img src=\"https://colab.research.google.com/assets/colab-badge.svg\" alt=\"Open In Colab\"/></a>"
      ]
    },
    {
      "cell_type": "markdown",
      "source": [
        "**Caso de Estudio**\n",
        "Describir el caso de estudio y las variables que lo definen."
      ],
      "metadata": {
        "id": "3LTc7Sz8tiwv"
      }
    },
    {
      "cell_type": "markdown",
      "source": [
        "0. Cargar las librerias de trabajo"
      ],
      "metadata": {
        "id": "Ixqgoajlt12E"
      }
    },
    {
      "cell_type": "code",
      "execution_count": null,
      "metadata": {
        "id": "bKaa8fc1tecL"
      },
      "outputs": [],
      "source": [
        "import numpy as np\n",
        "import pandas as pd\n",
        "import matplotlib.pyplot as plt\n",
        "import seaborn as sns"
      ]
    },
    {
      "cell_type": "code",
      "source": [
        "from google.colab import drive\n",
        "drive.mount('/content/drive')"
      ],
      "metadata": {
        "id": "Xa2nJJMlt7br",
        "colab": {
          "base_uri": "https://localhost:8080/"
        },
        "outputId": "c8e58f17-4231-4601-a1f5-fa5888f44728"
      },
      "execution_count": 3,
      "outputs": [
        {
          "output_type": "stream",
          "name": "stdout",
          "text": [
            "Mounted at /content/drive\n"
          ]
        }
      ]
    },
    {
      "cell_type": "code",
      "source": [
        "# @title 1. Método: Histograma de Frecuencias\n",
        "# Variables de Entrada: Distribución de las Pérdidas\n",
        "# Variables de Salida: Limite Inferior, Limite Superior, Número de Datos\n",
        "# Marca de Clase del Histograma de Frecuencias.\n",
        "def Histx(LDA): #Nombre de su método\n",
        "\n",
        "  NC=10  #Número de Clusters\n",
        "\n",
        "  plt.figure()\n",
        "  sns.histplot(LDA,kde=True,bins=NC,color='red')\n",
        "  plt.title('Distribución LDA')\n",
        "  plt.show()\n",
        "\n",
        "  #Obtenemos la información de la Distribución\n",
        "  counts, bin_edges=np.histogram(LDA,bins=NC)\n",
        "  LI=bin_edges[:-1];LS=bin_edges[1:]\n",
        "  mc=(LI+LS)/2 #El valor representativo de cada intervalo\n",
        "  freq=counts/np.sum(counts)\n",
        "\n",
        "  return LI,LS,counts,mc,freq"
      ],
      "metadata": {
        "id": "eogvPwS-uwd5"
      },
      "execution_count": 4,
      "outputs": []
    },
    {
      "cell_type": "markdown",
      "source": [
        "2. Se cargan los datos de trabajo"
      ],
      "metadata": {
        "id": "i0jZf49Kve9T"
      }
    },
    {
      "cell_type": "code",
      "source": [
        "nxl='/content/drive/MyDrive/Integración de Datos y Pros./6. SolicitantesCrédito(USD).xlsx'\n",
        "XDB=pd.read_excel(nxl,sheet_name=1)\n",
        "display(XDB)\n",
        "\n",
        "#Se calcula la distribución LDA\n",
        "LDA=XDB.iloc[:,25]*XDB.iloc[:,33]*(1+XDB.iloc[:,35])\n",
        "XDB['LDA']=LDA\n",
        "\n",
        "LI,LS,counts,mc,freq=Histx(LDA) #Me saca limites y cuántos datos hay en cada barrita.\n",
        "df=pd.DataFrame({'LI':LI,'LS':LS,'mc':mc,'ND':counts,'freq':freq})\n",
        "display(df)\n",
        "df.to_excel('Histograma_LDA.xlsx')"
      ],
      "metadata": {
        "colab": {
          "base_uri": "https://localhost:8080/",
          "height": 798
        },
        "id": "F2GwbocIuifG",
        "outputId": "32df6473-dc02-49f1-f95f-7363f2b16bb8"
      },
      "execution_count": 9,
      "outputs": [
        {
          "output_type": "display_data",
          "data": {
            "text/plain": [
              "<Figure size 640x480 with 1 Axes>"
            ],
            "image/png": "[encoded data removed]"
          },
          "metadata": {}
        },
        {
          "output_type": "display_data",
          "data": {
            "text/plain": [
              "           LI          LS          mc    ND      freq\n",
              "0    0.388425   15.974978    8.181701   392  0.067100\n",
              "1   15.974978   31.561531   23.768254   706  0.120849\n",
              "2   31.561531   47.148084   39.354807  1175  0.201130\n",
              "3   47.148084   62.734637   54.941360  1307  0.223725\n",
              "4   62.734637   78.321190   70.527913  1091  0.186751\n",
              "5   78.321190   93.907743   86.114466   647  0.110750\n",
              "6   93.907743  109.494295  101.701019   355  0.060767\n",
              "7  109.494295  125.080848  117.287572   126  0.021568\n",
              "8  125.080848  140.667401  132.874125    37  0.006333\n",
              "9  140.667401  156.253954  148.460678     6  0.001027"
            ],
            "text/html": [
              "\n",
              "  <div id=\"df-6faf5453-1163-4705-9b4e-6a7358c11912\" class=\"colab-df-container\">\n",
              "    <div>\n",
              "<style scoped>\n",
              "    .dataframe tbody tr th:only-of-type {\n",
              "        vertical-align: middle;\n",
              "    }\n",
              "\n",
              "    .dataframe tbody tr th {\n",
              "        vertical-align: top;\n",
              "    }\n",
              "\n",
              "    .dataframe thead th {\n",
              "        text-align: right;\n",
              "    }\n",
              "</style>\n",
              "<table border=\"1\" class=\"dataframe\">\n",
              "  <thead>\n",
              "    <tr style=\"text-align: right;\">\n",
              "      <th></th>\n",
              "      <th>LI</th>\n",
              "      <th>LS</th>\n",
              "      <th>mc</th>\n",
              "      <th>ND</th>\n",
              "      <th>freq</th>\n",
              "    </tr>\n",
              "  </thead>\n",
              "  <tbody>\n",
              "    <tr>\n",
              "      <th>0</th>\n",
              "      <td>0.388425</td>\n",
              "      <td>15.974978</td>\n",
              "      <td>8.181701</td>\n",
              "      <td>392</td>\n",
              "      <td>0.067100</td>\n",
              "    </tr>\n",
              "    <tr>\n",
              "      <th>1</th>\n",
              "      <td>15.974978</td>\n",
              "      <td>31.561531</td>\n",
              "      <td>23.768254</td>\n",
              "      <td>706</td>\n",
              "      <td>0.120849</td>\n",
              "    </tr>\n",
              "    <tr>\n",
              "      <th>2</th>\n",
              "      <td>31.561531</td>\n",
              "      <td>47.148084</td>\n",
              "      <td>39.354807</td>\n",
              "      <td>1175</td>\n",
              "      <td>0.201130</td>\n",
              "    </tr>\n",
              "    <tr>\n",
              "      <th>3</th>\n",
              "      <td>47.148084</td>\n",
              "      <td>62.734637</td>\n",
              "      <td>54.941360</td>\n",
              "      <td>1307</td>\n",
              "      <td>0.223725</td>\n",
              "    </tr>\n",
              "    <tr>\n",
              "      <th>4</th>\n",
              "      <td>62.734637</td>\n",
              "      <td>78.321190</td>\n",
              "      <td>70.527913</td>\n",
              "      <td>1091</td>\n",
              "      <td>0.186751</td>\n",
              "    </tr>\n",
              "    <tr>\n",
              "      <th>5</th>\n",
              "      <td>78.321190</td>\n",
              "      <td>93.907743</td>\n",
              "      <td>86.114466</td>\n",
              "      <td>647</td>\n",
              "      <td>0.110750</td>\n",
              "    </tr>\n",
              "    <tr>\n",
              "      <th>6</th>\n",
              "      <td>93.907743</td>\n",
              "      <td>109.494295</td>\n",
              "      <td>101.701019</td>\n",
              "      <td>355</td>\n",
              "      <td>0.060767</td>\n",
              "    </tr>\n",
              "    <tr>\n",
              "      <th>7</th>\n",
              "      <td>109.494295</td>\n",
              "      <td>125.080848</td>\n",
              "      <td>117.287572</td>\n",
              "      <td>126</td>\n",
              "      <td>0.021568</td>\n",
              "    </tr>\n",
              "    <tr>\n",
              "      <th>8</th>\n",
              "      <td>125.080848</td>\n",
              "      <td>140.667401</td>\n",
              "      <td>132.874125</td>\n",
              "      <td>37</td>\n",
              "      <td>0.006333</td>\n",
              "    </tr>\n",
              "    <tr>\n",
              "      <th>9</th>\n",
              "      <td>140.667401</td>\n",
              "      <td>156.253954</td>\n",
              "      <td>148.460678</td>\n",
              "      <td>6</td>\n",
              "      <td>0.001027</td>\n",
              "    </tr>\n",
              "  </tbody>\n",
              "</table>\n",
              "</div>\n",
              "    <div class=\"colab-df-buttons\">\n",
              "\n",
              "  <div class=\"colab-df-container\">\n",
              "    <button class=\"colab-df-convert\" onclick=\"convertToInteractive('df-6faf5453-1163-4705-9b4e-6a7358c11912')\"\n",
              "            title=\"Convert this dataframe to an interactive table.\"\n",
              "            style=\"display:none;\">\n",
              "\n",
              "  <svg xmlns=\"http://www.w3.org/2000/svg\" height=\"24px\" viewBox=\"0 -960 960 960\">\n",
              "    <path d=\"M120-120v-720h720v720H120Zm60-500h600v-160H180v160Zm220 220h160v-160H400v160Zm0 220h160v-160H400v160ZM180-400h160v-160H180v160Zm440 0h160v-160H620v160ZM180-180h160v-160H180v160Zm440 0h160v-160H620v160Z\"/>\n",
              "  </svg>\n",
              "    </button>\n",
              "\n",
              "  <style>\n",
              "    .colab-df-container {\n",
              "      display:flex;\n",
              "      gap: 12px;\n",
              "    }\n",
              "\n",
              "    .colab-df-convert {\n",
              "      background-color: #E8F0FE;\n",
              "      border: none;\n",
              "      border-radius: 50%;\n",
              "      cursor: pointer;\n",
              "      display: none;\n",
              "      fill: #1967D2;\n",
              "      height: 32px;\n",
              "      padding: 0 0 0 0;\n",
              "      width: 32px;\n",
              "    }\n",
              "\n",
              "    .colab-df-convert:hover {\n",
              "      background-color: #E2EBFA;\n",
              "      box-shadow: 0px 1px 2px rgba(60, 64, 67, 0.3), 0px 1px 3px 1px rgba(60, 64, 67, 0.15);\n",
              "      fill: #174EA6;\n",
              "    }\n",
              "\n",
              "    .colab-df-buttons div {\n",
              "      margin-bottom: 4px;\n",
              "    }\n",
              "\n",
              "    [theme=dark] .colab-df-convert {\n",
              "      background-color: #3B4455;\n",
              "      fill: #D2E3FC;\n",
              "    }\n",
              "\n",
              "    [theme=dark] .colab-df-convert:hover {\n",
              "      background-color: #434B5C;\n",
              "      box-shadow: 0px 1px 3px 1px rgba(0, 0, 0, 0.15);\n",
              "      filter: drop-shadow(0px 1px 2px rgba(0, 0, 0, 0.3));\n",
              "      fill: #FFFFFF;\n",
              "    }\n",
              "  </style>\n",
              "\n",
              "    <script>\n",
              "      const buttonEl =\n",
              "        document.querySelector('#df-6faf5453-1163-4705-9b4e-6a7358c11912 button.colab-df-convert');\n",
              "      buttonEl.style.display =\n",
              "        google.colab.kernel.accessAllowed ? 'block' : 'none';\n",
              "\n",
              "      async function convertToInteractive(key) {\n",
              "        const element = document.querySelector('#df-6faf5453-1163-4705-9b4e-6a7358c11912');\n",
              "        const dataTable =\n",
              "          await google.colab.kernel.invokeFunction('convertToInteractive',\n",
              "                                                    [key], {});\n",
              "        if (!dataTable) return;\n",
              "\n",
              "        const docLinkHtml = 'Like what you see? Visit the ' +\n",
              "          '<a target=\"_blank\" href=https://colab.research.google.com/notebooks/data_table.ipynb>data table notebook</a>'\n",
              "          + ' to learn more about interactive tables.';\n",
              "        element.innerHTML = '';\n",
              "        dataTable['output_type'] = 'display_data';\n",
              "        await google.colab.output.renderOutput(dataTable, element);\n",
              "        const docLink = document.createElement('div');\n",
              "        docLink.innerHTML = docLinkHtml;\n",
              "        element.appendChild(docLink);\n",
              "      }\n",
              "    </script>\n",
              "  </div>\n",
              "\n",
              "\n",
              "    <div id=\"df-5983a2ac-3727-4296-84cc-7cf69b5fb195\">\n",
              "      <button class=\"colab-df-quickchart\" onclick=\"quickchart('df-5983a2ac-3727-4296-84cc-7cf69b5fb195')\"\n",
              "                title=\"Suggest charts\"\n",
              "                style=\"display:none;\">\n",
              "\n",
              "<svg xmlns=\"http://www.w3.org/2000/svg\" height=\"24px\"viewBox=\"0 0 24 24\"\n",
              "     width=\"24px\">\n",
              "    <g>\n",
              "        <path d=\"M19 3H5c-1.1 0-2 .9-2 2v14c0 1.1.9 2 2 2h14c1.1 0 2-.9 2-2V5c0-1.1-.9-2-2-2zM9 17H7v-7h2v7zm4 0h-2V7h2v10zm4 0h-2v-4h2v4z\"/>\n",
              "    </g>\n",
              "</svg>\n",
              "      </button>\n",
              "\n",
              "<style>\n",
              "  .colab-df-quickchart {\n",
              "      --bg-color: #E8F0FE;\n",
              "      --fill-color: #1967D2;\n",
              "      --hover-bg-color: #E2EBFA;\n",
              "      --hover-fill-color: #174EA6;\n",
              "      --disabled-fill-color: #AAA;\n",
              "      --disabled-bg-color: #DDD;\n",
              "  }\n",
              "\n",
              "  [theme=dark] .colab-df-quickchart {\n",
              "      --bg-color: #3B4455;\n",
              "      --fill-color: #D2E3FC;\n",
              "      --hover-bg-color: #434B5C;\n",
              "      --hover-fill-color: #FFFFFF;\n",
              "      --disabled-bg-color: #3B4455;\n",
              "      --disabled-fill-color: #666;\n",
              "  }\n",
              "\n",
              "  .colab-df-quickchart {\n",
              "    background-color: var(--bg-color);\n",
              "    border: none;\n",
              "    border-radius: 50%;\n",
              "    cursor: pointer;\n",
              "    display: none;\n",
              "    fill: var(--fill-color);\n",
              "    height: 32px;\n",
              "    padding: 0;\n",
              "    width: 32px;\n",
              "  }\n",
              "\n",
              "  .colab-df-quickchart:hover {\n",
              "    background-color: var(--hover-bg-color);\n",
              "    box-shadow: 0 1px 2px rgba(60, 64, 67, 0.3), 0 1px 3px 1px rgba(60, 64, 67, 0.15);\n",
              "    fill: var(--button-hover-fill-color);\n",
              "  }\n",
              "\n",
              "  .colab-df-quickchart-complete:disabled,\n",
              "  .colab-df-quickchart-complete:disabled:hover {\n",
              "    background-color: var(--disabled-bg-color);\n",
              "    fill: var(--disabled-fill-color);\n",
              "    box-shadow: none;\n",
              "  }\n",
              "\n",
              "  .colab-df-spinner {\n",
              "    border: 2px solid var(--fill-color);\n",
              "    border-color: transparent;\n",
              "    border-bottom-color: var(--fill-color);\n",
              "    animation:\n",
              "      spin 1s steps(1) infinite;\n",
              "  }\n",
              "\n",
              "  @keyframes spin {\n",
              "    0% {\n",
              "      border-color: transparent;\n",
              "      border-bottom-color: var(--fill-color);\n",
              "      border-left-color: var(--fill-color);\n",
              "    }\n",
              "    20% {\n",
              "      border-color: transparent;\n",
              "      border-left-color: var(--fill-color);\n",
              "      border-top-color: var(--fill-color);\n",
              "    }\n",
              "    30% {\n",
              "      border-color: transparent;\n",
              "      border-left-color: var(--fill-color);\n",
              "      border-top-color: var(--fill-color);\n",
              "      border-right-color: var(--fill-color);\n",
              "    }\n",
              "    40% {\n",
              "      border-color: transparent;\n",
              "      border-right-color: var(--fill-color);\n",
              "      border-top-color: var(--fill-color);\n",
              "    }\n",
              "    60% {\n",
              "      border-color: transparent;\n",
              "      border-right-color: var(--fill-color);\n",
              "    }\n",
              "    80% {\n",
              "      border-color: transparent;\n",
              "      border-right-color: var(--fill-color);\n",
              "      border-bottom-color: var(--fill-color);\n",
              "    }\n",
              "    90% {\n",
              "      border-color: transparent;\n",
              "      border-bottom-color: var(--fill-color);\n",
              "    }\n",
              "  }\n",
              "</style>\n",
              "\n",
              "      <script>\n",
              "        async function quickchart(key) {\n",
              "          const quickchartButtonEl =\n",
              "            document.querySelector('#' + key + ' button');\n",
              "          quickchartButtonEl.disabled = true;  // To prevent multiple clicks.\n",
              "          quickchartButtonEl.classList.add('colab-df-spinner');\n",
              "          try {\n",
              "            const charts = await google.colab.kernel.invokeFunction(\n",
              "                'suggestCharts', [key], {});\n",
              "          } catch (error) {\n",
              "            console.error('Error during call to suggestCharts:', error);\n",
              "          }\n",
              "          quickchartButtonEl.classList.remove('colab-df-spinner');\n",
              "          quickchartButtonEl.classList.add('colab-df-quickchart-complete');\n",
              "        }\n",
              "        (() => {\n",
              "          let quickchartButtonEl =\n",
              "            document.querySelector('#df-5983a2ac-3727-4296-84cc-7cf69b5fb195 button');\n",
              "          quickchartButtonEl.style.display =\n",
              "            google.colab.kernel.accessAllowed ? 'block' : 'none';\n",
              "        })();\n",
              "      </script>\n",
              "    </div>\n",
              "\n",
              "  <div id=\"id_8b37b70e-3f65-4caf-bd00-5b0ccfe885d6\">\n",
              "    <style>\n",
              "      .colab-df-generate {\n",
              "        background-color: #E8F0FE;\n",
              "        border: none;\n",
              "        border-radius: 50%;\n",
              "        cursor: pointer;\n",
              "        display: none;\n",
              "        fill: #1967D2;\n",
              "        height: 32px;\n",
              "        padding: 0 0 0 0;\n",
              "        width: 32px;\n",
              "      }\n",
              "\n",
              "      .colab-df-generate:hover {\n",
              "        background-color: #E2EBFA;\n",
              "        box-shadow: 0px 1px 2px rgba(60, 64, 67, 0.3), 0px 1px 3px 1px rgba(60, 64, 67, 0.15);\n",
              "        fill: #174EA6;\n",
              "      }\n",
              "\n",
              "      [theme=dark] .colab-df-generate {\n",
              "        background-color: #3B4455;\n",
              "        fill: #D2E3FC;\n",
              "      }\n",
              "\n",
              "      [theme=dark] .colab-df-generate:hover {\n",
              "        background-color: #434B5C;\n",
              "        box-shadow: 0px 1px 3px 1px rgba(0, 0, 0, 0.15);\n",
              "        filter: drop-shadow(0px 1px 2px rgba(0, 0, 0, 0.3));\n",
              "        fill: #FFFFFF;\n",
              "      }\n",
              "    </style>\n",
              "    <button class=\"colab-df-generate\" onclick=\"generateWithVariable('df')\"\n",
              "            title=\"Generate code using this dataframe.\"\n",
              "            style=\"display:none;\">\n",
              "\n",
              "  <svg xmlns=\"http://www.w3.org/2000/svg\" height=\"24px\"viewBox=\"0 0 24 24\"\n",
              "       width=\"24px\">\n",
              "    <path d=\"M7,19H8.4L18.45,9,17,7.55,7,17.6ZM5,21V16.75L18.45,3.32a2,2,0,0,1,2.83,0l1.4,1.43a1.91,1.91,0,0,1,.58,1.4,1.91,1.91,0,0,1-.58,1.4L9.25,21ZM18.45,9,17,7.55Zm-12,3A5.31,5.31,0,0,0,4.9,8.1,5.31,5.31,0,0,0,1,6.5,5.31,5.31,0,0,0,4.9,4.9,5.31,5.31,0,0,0,6.5,1,5.31,5.31,0,0,0,8.1,4.9,5.31,5.31,0,0,0,12,6.5,5.46,5.46,0,0,0,6.5,12Z\"/>\n",
              "  </svg>\n",
              "    </button>\n",
              "    <script>\n",
              "      (() => {\n",
              "      const buttonEl =\n",
              "        document.querySelector('#id_8b37b70e-3f65-4caf-bd00-5b0ccfe885d6 button.colab-df-generate');\n",
              "      buttonEl.style.display =\n",
              "        google.colab.kernel.accessAllowed ? 'block' : 'none';\n",
              "\n",
              "      buttonEl.onclick = () => {\n",
              "        google.colab.notebook.generateWithVariable('df');\n",
              "      }\n",
              "      })();\n",
              "    </script>\n",
              "  </div>\n",
              "\n",
              "    </div>\n",
              "  </div>\n"
            ],
            "application/vnd.google.colaboratory.intrinsic+json": {
              "type": "dataframe",
              "variable_name": "df",
              "summary": "{\n  \"name\": \"df\",\n  \"rows\": 10,\n  \"fields\": [\n    {\n      \"column\": \"LI\",\n      \"properties\": {\n        \"dtype\": \"number\",\n        \"std\": 47.19063251938176,\n        \"min\": 0.38842489755755544,\n        \"max\": 140.66740133208668,\n        \"num_unique_values\": 10,\n        \"samples\": [\n          125.08084839491679,\n          15.97497783472746,\n          78.32118958340708\n        ],\n        \"semantic_type\": \"\",\n        \"description\": \"\"\n      }\n    },\n    {\n      \"column\": \"LS\",\n      \"properties\": {\n        \"dtype\": \"number\",\n        \"std\": 47.19063251938176,\n        \"min\": 15.97497783472746,\n        \"max\": 156.25395426925658,\n        \"num_unique_values\": 10,\n        \"samples\": [\n          140.66740133208668,\n          31.561530771897363,\n          93.90774252057697\n        ],\n        \"semantic_type\": \"\",\n        \"description\": \"\"\n      }\n    },\n    {\n      \"column\": \"mc\",\n      \"properties\": {\n        \"dtype\": \"number\",\n        \"std\": 47.19063251938176,\n        \"min\": 8.181701366142507,\n        \"max\": 148.46067780067165,\n        \"num_unique_values\": 10,\n        \"samples\": [\n          132.87412486350172,\n          23.76825430331241,\n          86.11446605199203\n        ],\n        \"semantic_type\": \"\",\n        \"description\": \"\"\n      }\n    },\n    {\n      \"column\": \"ND\",\n      \"properties\": {\n        \"dtype\": \"number\",\n        \"std\": 480,\n        \"min\": 6,\n        \"max\": 1307,\n        \"num_unique_values\": 10,\n        \"samples\": [\n          37,\n          706,\n          647\n        ],\n        \"semantic_type\": \"\",\n        \"description\": \"\"\n      }\n    },\n    {\n      \"column\": \"freq\",\n      \"properties\": {\n        \"dtype\": \"number\",\n        \"std\": 0.08229575264179657,\n        \"min\": 0.0010270455323519343,\n        \"max\": 0.22372475179732967,\n        \"num_unique_values\": 10,\n        \"samples\": [\n          0.006333447449503595,\n          0.12084902430674427,\n          0.11074974323861692\n        ],\n        \"semantic_type\": \"\",\n        \"description\": \"\"\n      }\n    }\n  ]\n}"
            }
          },
          "metadata": {}
        }
      ]
    },
    {
      "cell_type": "markdown",
      "source": [
        "3. Muestreo Aleatorio - Utilizando el Método de Montecarlo"
      ],
      "metadata": {
        "id": "VzDnvCyN4hpA"
      }
    },
    {
      "cell_type": "code",
      "source": [
        "acum=np.cumsum(freq)\n",
        "Confiabilidad=9999+1 #Confiabilidad del 99,99%\n",
        "print(Confiabilidad)\n",
        "LDAm=np.zeros((Confiabilidad,1)) #La variable muestreada\n",
        "\n",
        "for k in range(Confiabilidad):\n",
        "  al=np.random.uniform(0,1) #Esto es uno cualquiera\n",
        "  inter=np.where(al<=acum)[0][0]\n",
        "  #print(\"Limite inferior:\",LI[inter])\n",
        "  #print(\"Limite superior:\",LS[inter])\n",
        "  LDAm[k]=np.random.uniform(LI[inter],LS[inter])\n",
        "  #print(\"El número seleccionado es:\",LDAm[k,])\n",
        "\n",
        "plt.figure()\n",
        "sns.histplot(LDAm,kde=True,bins=10,color='pink')\n",
        "sns.histplot(LDA,kde=True,bins=10,color='red')\n",
        "plt.title('Distribución LDAm')\n",
        "plt.show()"
      ],
      "metadata": {
        "colab": {
          "base_uri": "https://localhost:8080/",
          "height": 469
        },
        "id": "oo1Bio72wUgg",
        "outputId": "73d38225-21df-4475-b238-4321956325e6"
      },
      "execution_count": 40,
      "outputs": [
        {
          "output_type": "stream",
          "name": "stdout",
          "text": [
            "10000\n"
          ]
        },
        {
          "output_type": "display_data",
          "data": {
            "text/plain": [
              "<Figure size 640x480 with 1 Axes>"
            ],
            "image/png": "[encoded data removed]"
          },
          "metadata": {}
        }
      ]
    },
    {
      "cell_type": "markdown",
      "source": [
        "4. Prueba del muestreo"
      ],
      "metadata": {
        "id": "-o9SUEsL-BdI"
      }
    },
    {
      "cell_type": "code",
      "source": [
        "from scipy.stats import skew,kurtosis\n",
        "\n",
        "print(\"Información LDA original\")\n",
        "print(\"La media es:\",np.mean(LDA))\n",
        "print(\"La varianza es:\",np.var(LDA))\n",
        "print(\"El coeficiente de asimetría es:\",skew(LDA))\n",
        "print(\"El coeficiente de curtosis es:\",kurtosis(LDA))\n",
        "\n",
        "print(\"Información LDA original\")\n",
        "print(\"La media es:\",np.mean(LDAm))\n",
        "print(\"La varianza es:\",np.var(LDAm))\n",
        "print(\"El coeficiente de asimetría es:\",skew(LDAm))\n",
        "print(\"El coeficiente de curtosis es:\",kurtosis(LDAm))\n",
        "\n",
        "#Las diferenecias entre las metricas son\n",
        "dif_u=(np.mean(LDA)-np.mean(LDAm))/np.mean(LDA)\n",
        "print(\"La diferencia porcentual de la media es:\",dif_u*100)\n",
        "dif_v=(np.var(LDA)-np.var(LDAm))/np.var(LDA)\n",
        "print(\"La diferencia porcentual de la varianza es:\",dif_v*100)\n",
        "dif_sk=(skew(LDA)-skew(LDAm))/skew(LDA)\n",
        "print(\"La diferencia porcentual del coeficiente de asimetría es:\",dif_sk*100)\n",
        "dif_ku=(kurtosis(LDA)-kurtosis(LDAm))/kurtosis(LDA)\n",
        "print(\"La diferencia porcentual del coeficiente de curtosis es:\",dif_ku*100)"
      ],
      "metadata": {
        "colab": {
          "base_uri": "https://localhost:8080/"
        },
        "id": "zy9HEUQbA1MW",
        "outputId": "7b7846f8-b35f-4f39-a461-8333aa1a8a5c"
      },
      "execution_count": 41,
      "outputs": [
        {
          "output_type": "stream",
          "name": "stdout",
          "text": [
            "Información LDA original\n",
            "La media es: 56.05296470592385\n",
            "La varianza es: 714.3667152538843\n",
            "El coeficiente de asimetría es: 0.28830609042395505\n",
            "El coeficiente de curtosis es: -0.2302352715704683\n",
            "Información LDA original\n",
            "La media es: 56.18193628746293\n",
            "La varianza es: 738.939717033351\n",
            "El coeficiente de asimetría es: [0.24280606]\n",
            "El coeficiente de curtosis es: [-0.29064597]\n",
            "La diferencia porcentual de la media es: -0.23008877802578281\n",
            "La diferencia porcentual de la varianza es: -3.4398301677218446\n",
            "La diferencia porcentual del coeficiente de asimetría es: [15.78184847]\n",
            "La diferencia porcentual del coeficiente de curtosis es: [-26.23868223]\n"
          ]
        }
      ]
    },
    {
      "cell_type": "markdown",
      "source": [
        "**Análisis de Resultados**\n",
        "\n",
        "De acuerdo con el muestreo aleatorio, se puede observar que a medida\n",
        "que la confiabilidad de los datos va en aumento, las métricas estadísticas\n",
        "de tendecia central tienden a tener comportamiento similares a las métricas de tendencia central de la variable de referencia. Esto se puede corroborar a partir de las diferencias entre dichas métricas, se puede observar que la media y el coeficiente de asiemtría lograron diferencias por debajo del 1% en promedio (media, coeficiente de asimetría), mientras que el coeficiente de\n",
        "kurtosis, y la varianza lograron diferencias cercanas al 7% en promedio, lo\n",
        "que es aceptable frente a este tipo de procesos de integración de datos."
      ],
      "metadata": {
        "id": "fuilt-c5ELrc"
      }
    }
  ]
}